{
  "cells": [
    {
      "cell_type": "markdown",
      "source": [
        "# Constructing a Latent Dirichlet Allocation (LDA) Model"
      ],
      "metadata": {
        "id": "wOX524o5DVnc"
      }
    },
    {
      "cell_type": "markdown",
      "source": [
        "Install/Import Necessary Packages"
      ],
      "metadata": {
        "id": "v713ScynCr_C"
      }
    },
    {
      "cell_type": "code",
      "execution_count": null,
      "metadata": {
        "id": "48_qASU9osmA"
      },
      "outputs": [],
      "source": [
        "!pip install nltk\n",
        "!pip install gensim\n",
        "!pip install spacy\n",
        "!pip install pyLDAvis"
      ]
    },
    {
      "cell_type": "code",
      "execution_count": null,
      "metadata": {
        "id": "eMKBfQwrkRmB"
      },
      "outputs": [],
      "source": [
        "import nltk\n",
        "nltk.download(\"stopwords\")\n",
        "import numpy as np\n",
        "import pandas as pd\n",
        "\n",
        "#Using gensim\n",
        "import gensim\n",
        "import gensim.corpora as corpora\n",
        "from gensim.utils import simple_preprocess\n",
        "from gensim.models import CoherenceModel\n",
        "\n",
        "#Using spacy\n",
        "import spacy\n",
        "from nltk.corpus import stopwords\n",
        "\n",
        "#visualisation\n",
        "import pyLDAvis\n",
        "import pyLDAvis.gensim_models\n",
        "import matplotlib.pyplot as plt\n",
        "\n",
        "#Get rid of annoying warnings\n",
        "import warnings\n",
        "warnings.filterwarnings(\"ignore\", category=DeprecationWarning)\n",
        "\n",
        "np.random.seed(42)"
      ]
    },
    {
      "cell_type": "markdown",
      "metadata": {
        "id": "oeS6_nhBLWv-"
      },
      "source": [
        "Text Pre-Processing"
      ]
    },
    {
      "cell_type": "code",
      "execution_count": null,
      "metadata": {
        "colab": {
          "base_uri": "https://localhost:8080/"
        },
        "id": "A6AVKFQipWmc",
        "outputId": "31c7230c-7e05-4acf-fdc8-ae3ff92a7661"
      },
      "outputs": [
        {
          "output_type": "execute_result",
          "data": {
            "text/plain": [
              "['Fit: GoodColour: GoodMaterial Quality: Very goodVery comfortable maternity wear. Highly recommended!',\n",
              " 'Fit: comfortableColour: niceMaterial Quality: goodDelivery is very fast and quality is good!',\n",
              " 'Material Quality: goodColour: niceNo regrets with this purchase. Can probably fit even post pregnancy as it is adjustable.',\n",
              " 'Fit: 👍🏻Colour: 👍🏻Material Quality: no good quite thinQuick delivery.Item came in good condition.Value for money given the price that you are paying for.',\n",
              " 'Material Quality: SoftColour: GreyFast delivery and worth buying with the promotions.']"
            ]
          },
          "metadata": {},
          "execution_count": 4
        }
      ],
      "source": [
        "df= pd.read_excel(\"/content/reviews.xlsx\")\n",
        "data = df[\"review_text\"].tolist()\n",
        "data[:5]"
      ]
    },
    {
      "cell_type": "code",
      "execution_count": null,
      "metadata": {
        "colab": {
          "base_uri": "https://localhost:8080/"
        },
        "id": "sEYwuk6pqFmr",
        "outputId": "3f4920a2-82a2-48a1-fc9d-a98ed731e17d"
      },
      "outputs": [
        {
          "output_type": "stream",
          "name": "stderr",
          "text": [
            "/usr/local/lib/python3.7/dist-packages/spacy/language.py:1899: UserWarning: [W123] Argument disable with value ['parser', 'ner'] is used instead of ['senter'] as specified in the config. Be aware that this might affect other components in your pipeline.\n",
            "  config_value=config[\"nlp\"][key],\n"
          ]
        },
        {
          "output_type": "stream",
          "name": "stdout",
          "text": [
            "['fit very goodvery comfortable maternity wear highly recommend', 'nicematerial goodDelivery very fast quality good', 'regret purchase probably fit even post pregnancy adjustable', 'fit quality good quite thinquick delivery come good condition value money give price pay', 'delivery worth buy promotion']\n"
          ]
        }
      ],
      "source": [
        "def lemmatization(texts, allowed_postags=[\"NOUN\", \"ADJ\", \"VERB\", \"ADV\"]):\n",
        "  nlp = spacy.load(\"en_core_web_sm\", disable=[\"parser\", \"ner\"])\n",
        "  #disabled these two because irrelevant, reduce comp load\n",
        "  texts_out = []\n",
        "  for text in texts:\n",
        "    doc = nlp(text)\n",
        "    new_text = []\n",
        "    for token in doc:\n",
        "      if token.pos_ in allowed_postags:\n",
        "        new_text.append(token.lemma_)\n",
        "    final = \" \".join(new_text)\n",
        "    texts_out.append(final)\n",
        "  return(texts_out)\n",
        "\n",
        "lemmatized_texts = lemmatization(data)\n",
        "print(lemmatized_texts[0:5][0:90])"
      ]
    },
    {
      "cell_type": "code",
      "execution_count": null,
      "metadata": {
        "colab": {
          "base_uri": "https://localhost:8080/"
        },
        "id": "mda7KuUgrv2L",
        "outputId": "1ad9c852-6bbc-48a5-e569-42c2dc494417"
      },
      "outputs": [
        {
          "output_type": "stream",
          "name": "stdout",
          "text": [
            "['fit', 'very', 'goodvery', 'comfortable', 'maternity', 'wear', 'highly', 'recommend']\n"
          ]
        }
      ],
      "source": [
        "stopwords = stopwords.words(\"english\")\n",
        "\n",
        "def gen_words(texts):\n",
        "  final = []\n",
        "  for text in texts:\n",
        "    if text not in stopwords:\n",
        "      new = gensim.utils.simple_preprocess(text, deacc=True)\n",
        "      final.append(new)\n",
        "  return(final)\n",
        "\n",
        "data_words = gen_words(lemmatized_texts)\n",
        "print(data_words[0][0:20])"
      ]
    },
    {
      "cell_type": "code",
      "execution_count": null,
      "metadata": {
        "colab": {
          "base_uri": "https://localhost:8080/"
        },
        "id": "RLLG-oex_8cs",
        "outputId": "34e5f42b-2ca0-441e-a9de-d690559fd97d"
      },
      "outputs": [
        {
          "output_type": "stream",
          "name": "stderr",
          "text": [
            "/usr/local/lib/python3.7/dist-packages/gensim/models/phrases.py:598: UserWarning: For a faster implementation, use the gensim.models.phrases.Phraser class\n",
            "  warnings.warn(\"For a faster implementation, use the gensim.models.phrases.Phraser class\")\n"
          ]
        },
        {
          "output_type": "stream",
          "name": "stdout",
          "text": [
            "['fit', 'very', 'goodvery', 'comfortable', 'maternity', 'wear', 'highly_recommend']\n"
          ]
        }
      ],
      "source": [
        "#BIGRAMS AND TRIGRAMS\n",
        "bigram_phrases = gensim.models.Phrases(data_words, min_count=5, threshold=75)\n",
        "trigram_phrases = gensim.models.Phrases(bigram_phrases[data_words], threshold=75)\n",
        "\n",
        "bigram = gensim.models.phrases.Phraser(bigram_phrases)\n",
        "trigram = gensim.models.phrases.Phraser(trigram_phrases)\n",
        "\n",
        "def make_bigrams(texts):\n",
        "    return([bigram[doc] for doc in texts])\n",
        "\n",
        "def make_trigrams(texts):\n",
        "    return ([trigram[bigram[doc]] for doc in texts])\n",
        "\n",
        "data_bigrams = make_bigrams(data_words)\n",
        "data_bigrams_trigrams = make_trigrams(data_bigrams)\n",
        "\n",
        "print (data_bigrams_trigrams[0])"
      ]
    },
    {
      "cell_type": "code",
      "execution_count": null,
      "metadata": {
        "colab": {
          "base_uri": "https://localhost:8080/"
        },
        "id": "OMxMBlcksPHf",
        "outputId": "6fda4363-28c4-44a6-c3f6-399e166923a8"
      },
      "outputs": [
        {
          "output_type": "stream",
          "name": "stdout",
          "text": [
            "[(13, 1), (39, 1), (45, 1), (48, 1), (57, 1), (92, 1)]\n",
            "comfortable\n"
          ]
        }
      ],
      "source": [
        "id2word = corpora.Dictionary(data_words)\n",
        "corpus = []\n",
        "for text in data_words:\n",
        "  new = id2word.doc2bow(text)\n",
        "  corpus.append(new)\n",
        "\n",
        "print(corpus[10][0:20])\n",
        "\n",
        "word = id2word[[0][:1][0]]\n",
        "print(word)"
      ]
    },
    {
      "cell_type": "markdown",
      "source": [
        "Coherence Analysis"
      ],
      "metadata": {
        "id": "GBOyTY3LC4Ti"
      }
    },
    {
      "cell_type": "code",
      "execution_count": null,
      "metadata": {
        "id": "1mEHnKOCr_it"
      },
      "outputs": [],
      "source": [
        "num_topics = 30\n",
        "x = []\n",
        "y = []\n",
        "\n",
        "for i in range(num_topics):\n",
        "    lda_model = gensim.models.ldamodel.LdaModel(corpus=corpus,\n",
        "                                           id2word=id2word,\n",
        "                                           num_topics=i+1,\n",
        "                                           random_state=100,\n",
        "                                           update_every=1,\n",
        "                                           chunksize=100,\n",
        "                                           passes=10,\n",
        "                                           alpha=\"auto\")\n",
        "    cm = CoherenceModel(model=lda_model, corpus=corpus, dictionary=id2word, coherence='u_mass')\n",
        "    x.append(i+1)\n",
        "    y.append(cm.get_coherence())"
      ]
    },
    {
      "cell_type": "code",
      "execution_count": null,
      "metadata": {
        "colab": {
          "base_uri": "https://localhost:8080/",
          "height": 296
        },
        "id": "wMUfGVpmsJQS",
        "outputId": "605b85c5-add3-4786-db60-1f1f59dd5665"
      },
      "outputs": [
        {
          "output_type": "display_data",
          "data": {
            "text/plain": [
              "<Figure size 432x288 with 1 Axes>"
            ],
            "image/png": "[encoded data removed]"
          },
          "metadata": {
            "needs_background": "light"
          }
        },
        {
          "output_type": "stream",
          "name": "stdout",
          "text": [
            "Optimal number of topics is 1 with a Coherence Score of -2.193158223828498\n"
          ]
        }
      ],
      "source": [
        "import matplotlib.pyplot as plt\n",
        "\n",
        "plt.plot(x, y)\n",
        "plt.xticks(np.arange(min(x), max(x)+1, 1.0))\n",
        "plt.grid()\n",
        "plt.ylabel('Coherence Score')\n",
        "plt.xlabel('No. of Topics')\n",
        "plt.show()\n",
        "\n",
        "num_topics = y.index(max(y))+1\n",
        "print(\"Optimal number of topics is {} with a Coherence Score of {}\".format(num_topics, max(y)))"
      ]
    },
    {
      "cell_type": "markdown",
      "source": [
        "Build LDA Model"
      ],
      "metadata": {
        "id": "YrbTPHtbC9MU"
      }
    },
    {
      "cell_type": "code",
      "execution_count": null,
      "metadata": {
        "id": "UFDGhzXps1uY"
      },
      "outputs": [],
      "source": [
        "lda_model = gensim.models.ldamodel.LdaModel(corpus=corpus,\n",
        "                                            id2word=id2word,\n",
        "                                            num_topics=7,\n",
        "                                            random_state=100,\n",
        "                                            update_every=1,\n",
        "                                            chunksize=100,\n",
        "                                            passes=10,\n",
        "                                            alpha=\"auto\")"
      ]
    },
    {
      "cell_type": "code",
      "execution_count": null,
      "metadata": {
        "colab": {
          "base_uri": "https://localhost:8080/",
          "height": 916
        },
        "id": "wX9JerG-IX_E",
        "outputId": "b2b8e62f-c421-4ca6-d2e3-c26b13041b65"
      },
      "outputs": [
        {
          "output_type": "stream",
          "name": "stderr",
          "text": [
            "/usr/local/lib/python3.7/dist-packages/pyLDAvis/_prepare.py:247: FutureWarning: In a future version of pandas all arguments of DataFrame.drop except for the argument 'labels' will be keyword-only\n",
            "  by='saliency', ascending=False).head(R).drop('saliency', 1)\n"
          ]
        },
        {
          "output_type": "execute_result",
          "data": {
            "text/plain": [
              "PreparedData(topic_coordinates=              x         y  topics  cluster       Freq\n",
              "topic                                                \n",
              "1     -0.046113 -0.442687       1        1  31.231524\n",
              "4     -0.423147  0.139456       2        1  24.081639\n",
              "6      0.276590  0.308389       3        1  20.747691\n",
              "2      0.377244 -0.132246       4        1   8.137281\n",
              "3      0.104023 -0.054630       5        1   7.326374\n",
              "0     -0.208860 -0.126037       6        1   4.536734\n",
              "5     -0.079738  0.307757       7        1   3.938756, topic_info=          Term         Freq        Total Category  logprob  loglift\n",
              "9         good  1120.000000  1120.000000  Default  30.0000  30.0000\n",
              "200       nice   994.000000   994.000000  Default  29.0000  29.0000\n",
              "12     quality   374.000000   374.000000  Default  28.0000  28.0000\n",
              "179       size   617.000000   617.000000  Default  27.0000  27.0000\n",
              "149      thank   592.000000   592.000000  Default  26.0000  26.0000\n",
              "...        ...          ...          ...      ...      ...      ...\n",
              "1088   courier     6.355449     7.292299   Topic7  -5.1273   3.0968\n",
              "1695  tomorrow     7.923255     9.153175   Topic7  -4.9068   3.0900\n",
              "296      store     5.972681     6.907261   Topic7  -5.1894   3.0889\n",
              "319      place     5.614626     6.542843   Topic7  -5.2513   3.0813\n",
              "1654   palazzo     5.918732    14.474793   Topic7  -5.1985   2.3400\n",
              "\n",
              "[261 rows x 6 columns], token_table=      Topic      Freq        Term\n",
              "term                             \n",
              "226       1  0.987853        abit\n",
              "230       3  0.982745        able\n",
              "683       7  0.852189       about\n",
              "357       6  0.964600  acceptable\n",
              "717       4  0.957636      accord\n",
              "...     ...       ...         ...\n",
              "496       7  0.943205        wife\n",
              "32        5  0.989453       worth\n",
              "456       4  0.963947       wrong\n",
              "1278      4  0.962170          xl\n",
              "191       2  0.980595         yet\n",
              "\n",
              "[244 rows x 3 columns], R=30, lambda_step=0.01, plot_opts={'xlab': 'PC1', 'ylab': 'PC2'}, topic_order=[2, 5, 7, 3, 4, 1, 6])"
            ],
            "text/html": [
              "\n",
              "<link rel=\"stylesheet\" type=\"text/css\" href=\"https://cdn.jsdelivr.net/gh/bmabey/pyLDAvis@3.3.1/pyLDAvis/js/ldavis.v1.0.0.css\">\n",
              "\n",
              "\n",
              "<div id=\"ldavis_el561402112716607525354296091\"></div>\n",
              "<script type=\"text/javascript\">\n",
              "\n",
              "var ldavis_el561402112716607525354296091_data = {\"mdsDat\": {\"x\": [-0.04611301307133293, -0.4231465288878529, 0.2765900874867351, 0.37724409140747955, 0.10402328839691233, -0.20885990453025088, -0.0797380208016902], \"y\": [-0.4426873842240264, 0.13945551810740045, 0.3083890932261606, -0.13224644796022347, -0.05463047627786662, -0.12603714801710708, 0.30775684514566254], \"topics\": [1, 2, 3, 4, 5, 6, 7], \"cluster\": [1, 1, 1, 1, 1, 1, 1], \"Freq\": [31.231524183068444, 24.08163948980365, 20.747690896824412, 8.137281434270625, 7.326373508135875, 4.536734066176938, 3.9387564217200577]}, \"tinfo\": {\"Term\": [\"good\", \"nice\", \"quality\", \"size\", \"thank\", \"material\", \"arrive\", \"seller\", \"fabric\", \"fit\", \"delivery\", \"very\", \"big\", \"fast\", \"height\", \"kg\", \"purchase\", \"receive\", \"item\", \"again\", \"time\", \"condition\", \"product\", \"buy\", \"wear\", \"cm\", \"comfortable\", \"use\", \"okay\", \"soft\", \"nice\", \"material\", \"very\", \"wear\", \"comfortable\", \"soft\", \"pant\", \"weight\", \"little\", \"just\", \"so\", \"thick\", \"thin\", \"comfy\", \"short\", \"love\", \"like\", \"long\", \"take\", \"adjust\", \"more\", \"suitable\", \"colour\", \"nd\", \"cool\", \"pregnancy\", \"only\", \"see\", \"abit\", \"area\", \"bit\", \"quite\", \"buy\", \"too\", \"good\", \"thank\", \"seller\", \"delivery\", \"fast\", \"receive\", \"item\", \"condition\", \"recommend\", \"repeat\", \"try\", \"even\", \"cloth\", \"overall\", \"ok\", \"gift\", \"free\", \"yet\", \"seem\", \"day\", \"other\", \"wash\", \"packaging\", \"highly\", \"hope\", \"wait\", \"iron\", \"maternity\", \"service\", \"package\", \"order\", \"hopefully\", \"well\", \"feel\", \"price\", \"come\", \"size\", \"fit\", \"big\", \"kg\", \"cm\", \"month\", \"get\", \"pregnant\", \"look\", \"week\", \"loose\", \"tight\", \"waist\", \"adjustable\", \"still\", \"picture\", \"last\", \"stretchable\", \"great\", \"thigh\", \"money\", \"trimester\", \"belly\", \"nicely\", \"give\", \"really\", \"tummy\", \"currently\", \"able\", \"expect\", \"too\", \"well\", \"come\", \"fabric\", \"use\", \"okay\", \"satisfied\", \"small\", \"cut\", \"length\", \"one\", \"also\", \"type\", \"color\", \"outside\", \"want\", \"pretty\", \"stomach\", \"accord\", \"cutting\", \"slippery\", \"black\", \"xl\", \"white\", \"find\", \"elok\", \"maybe\", \"say\", \"old\", \"wrong\", \"blue\", \"enough\", \"sure\", \"sele\", \"quality\", \"purchase\", \"again\", \"time\", \"product\", \"second\", \"worth\", \"happy\", \"pack\", \"buying\", \"definitely\", \"keep\", \"shop\", \"expectation\", \"resolve\", \"kain\", \"freebie\", \"tq\", \"belt\", \"especially\", \"customer\", \"mention\", \"guess\", \"such\", \"cute\", \"pricing\", \"due\", \"recommended\", \"translucent\", \"job\", \"pon\", \"sol\", \"buy\", \"height\", \"now\", \"way\", \"later\", \"go\", \"think\", \"top\", \"weigh\", \"perfect\", \"bottom\", \"bump\", \"true\", \"outer\", \"shipping\", \"acceptable\", \"person\", \"shipment\", \"end\", \"actually\", \"pocket\", \"home\", \"easy\", \"country\", \"thing\", \"third\", \"stainless\", \"kind\", \"check\", \"elegant\", \"extra\", \"seal\", \"address\", \"palazo\", \"arrive\", \"beautiful\", \"safely\", \"first\", \"wife\", \"already\", \"all\", \"after\", \"dark\", \"clothe\", \"next\", \"complete\", \"hair\", \"tie\", \"th\", \"few\", \"finish\", \"slight\", \"about\", \"early\", \"lg\", \"selesa\", \"grey\", \"night\", \"pc\", \"got\", \"courier\", \"tomorrow\", \"store\", \"place\", \"palazzo\"], \"Freq\": [1120.0, 994.0, 374.0, 617.0, 592.0, 712.0, 216.0, 440.0, 225.0, 360.0, 397.0, 486.0, 341.0, 349.0, 153.0, 305.0, 175.0, 328.0, 317.0, 164.0, 158.0, 261.0, 138.0, 379.0, 316.0, 227.0, 298.0, 125.0, 117.0, 260.0, 993.1632040784268, 711.3057041952148, 485.81603978805106, 315.4951470225723, 297.16001766293306, 259.50860314981367, 214.7016657922591, 204.55672690599945, 194.74695691477177, 200.9361655092239, 176.1512619429253, 135.6196702139882, 130.88810533715733, 128.7372839909234, 122.25910832240393, 120.8073347676518, 112.09158275825834, 108.62707908756974, 95.43545447079339, 92.50057081799447, 85.40740460932007, 78.57343536301956, 78.20915299176333, 69.22117415713149, 66.95882762765471, 65.59024108445102, 60.08116443320564, 56.71461020521616, 54.81742024240942, 54.68567385122387, 226.73269908415034, 94.73325008229705, 281.93347972714065, 72.36563528239161, 1119.6164643666036, 592.0723585300063, 439.55197007468183, 396.2565875687241, 348.9657904730387, 327.8258618719285, 316.6408824273118, 260.3209163608438, 136.02433050270065, 121.31002302952638, 114.822631981448, 102.45910734904402, 87.11070962413618, 78.09224028202539, 71.4789669435993, 68.51631052590871, 57.763482617205085, 57.2621312023569, 52.68051238431245, 48.18235249994664, 41.54966549661304, 37.707376379472464, 36.992895559637184, 35.76577503370112, 35.02095216539765, 31.526739537324026, 27.265883874607834, 25.942753396753634, 24.002646582923322, 22.31686945460968, 154.16336096882085, 37.25163258934731, 168.69488413554143, 52.764999189958694, 64.11334012592606, 49.72927541067743, 616.1471585256498, 359.3945129975157, 340.8634969897438, 304.9489320375659, 226.89998112355883, 159.2854166174048, 131.0829495649908, 113.45332261625688, 113.07501355411665, 108.98765485397885, 100.60384840743909, 95.71323333154919, 94.51647919107033, 89.26449912817483, 76.70498723738655, 72.61788606196387, 58.99838667685932, 58.99503359995612, 52.3429284501149, 47.19335387853393, 47.04734787626506, 46.41168753400175, 45.33102973959103, 45.046759243326655, 43.773068280299505, 61.27120521172791, 38.72973316492472, 38.659957106139125, 36.7853663817855, 33.03689443994649, 215.74932913760514, 59.66290029843064, 44.51164916330761, 224.9489529564496, 124.77717043645204, 116.88693776846324, 62.79166838785409, 48.77785388912597, 45.212268788209926, 45.051214437573165, 39.809636758932385, 39.67626922885713, 37.091566837390396, 35.886093553585745, 32.67849541471553, 31.687242515105037, 30.782482072134027, 29.62009939165266, 27.25923933780334, 26.613508971714595, 26.158242988705407, 24.064214874143456, 24.00961626611537, 19.324716414200697, 19.35395123969384, 19.780017438599817, 18.501938394859295, 17.702116608438793, 17.500566778591832, 16.70347718995679, 14.816263358764289, 13.741726350951184, 13.189864654082278, 13.209878440878137, 373.6664980769304, 174.8639279944268, 163.14334980848867, 157.2618743684676, 137.23483769458298, 58.84173470096766, 41.57494351085601, 37.995085558675015, 37.722795716395076, 23.494111104425496, 20.589857476627213, 15.54529006925306, 13.794287479761676, 11.62371226228902, 11.040969872087624, 10.312348644287983, 8.300516066497567, 7.806204776246001, 7.561977657368294, 7.275273453004193, 7.023970918207101, 6.8958117058411945, 6.7797475110229914, 6.909545436111997, 6.097655610194329, 5.639198816128613, 5.31689483055176, 7.602317271304485, 4.902761689536974, 4.920826502273839, 18.49022664264526, 8.354554613577086, 65.28306344470049, 152.81159273516027, 72.61638537821635, 34.67449626050029, 34.065522606678655, 32.019122442516185, 24.910581520027417, 22.481127032981558, 20.417493435004456, 18.8798231797839, 18.08545335741208, 17.369207439024805, 14.398470746008938, 13.196915656285904, 13.066768525083814, 12.56514068475848, 11.90460693214203, 13.62386375114513, 11.19263949295533, 11.087047361774387, 9.95399965335246, 9.772624542745552, 9.557439333476117, 8.66130192431753, 8.230043747201586, 7.670347302319291, 7.5387699891765285, 22.485041215134974, 6.356680083632755, 6.3370752714054515, 6.058474795080883, 8.574538893985865, 6.590998357691449, 7.096015769438243, 215.9630616274904, 48.66941866733665, 31.05978563486783, 23.6887941497801, 18.154873463249846, 18.083322392486252, 17.136885527748834, 17.55367645142878, 14.708934225607123, 14.155976368209869, 12.429822001391221, 12.66324447412215, 11.897524099125484, 11.180367140175157, 10.652250716247964, 10.301188122319028, 10.333535464054624, 9.965779881797806, 8.458905192327402, 7.640058291959337, 7.837118066339672, 7.835024832850228, 7.32743017871695, 7.192986820239402, 7.114417730236174, 6.693043742669781, 6.355449479948667, 7.923255422612767, 5.9726805845686775, 5.614626411193944, 5.918731931268155], \"Total\": [1120.0, 994.0, 374.0, 617.0, 592.0, 712.0, 216.0, 440.0, 225.0, 360.0, 397.0, 486.0, 341.0, 349.0, 153.0, 305.0, 175.0, 328.0, 317.0, 164.0, 158.0, 261.0, 138.0, 379.0, 316.0, 227.0, 298.0, 125.0, 117.0, 260.0, 994.0234884240231, 712.1649907594485, 486.6758830354762, 316.354732779613, 298.01862902338735, 260.3684362670282, 215.56092809134142, 205.4250663776192, 195.60880472799056, 201.82709384440622, 177.0107748147897, 136.4796861616604, 131.7469484678763, 129.59571774988933, 123.1184893213924, 121.66612818386781, 112.95254194474336, 109.48751561099583, 96.29595026681326, 93.3614063145212, 86.26694992549862, 79.43411327949569, 79.06835601469167, 70.08035745720105, 67.82146277488224, 66.44970286497374, 60.94277011588782, 57.57378658201784, 55.67632732110854, 55.54431827804979, 253.67612264808997, 100.95072913939322, 379.4733989577723, 288.79946248114356, 1120.483621615308, 592.9398802877599, 440.4197194918637, 397.122830375766, 349.8321780112814, 328.6918294388202, 317.50839158935224, 261.18699237330605, 136.89140720699967, 122.17928262008267, 115.68929273249812, 103.33049595285601, 87.98251045692645, 78.9613611625197, 72.34577415657371, 69.38288704986611, 58.630169349520415, 58.12795353027013, 53.54696592632865, 49.135418489699326, 42.41763196169108, 38.57435504288673, 37.85973456359628, 36.63177749296297, 35.887104488394534, 32.39482211751494, 28.13636268571532, 26.810787190317225, 24.869044290836953, 23.184933665407407, 160.39296194605154, 39.02638851548072, 229.54418527750195, 63.70300942488202, 117.97546535718631, 94.93319608631384, 617.0124351630891, 360.2590868050873, 341.72895201401235, 305.8149609879595, 227.76662774409402, 160.1533776555594, 131.94872509849785, 114.31882416287414, 113.93982894512133, 109.85306858385178, 101.4686405609158, 96.57839668239775, 95.38183122181798, 90.23075068641872, 77.57005718058129, 73.4876510758498, 59.862944329549876, 59.85993038400949, 53.20755271152785, 48.057409563501636, 47.91299867728885, 47.27584561601881, 46.19577689587534, 45.91117318552398, 44.63927077841379, 62.611637502154935, 39.59404608389466, 39.52423180179821, 37.649629635928065, 33.901623743945926, 288.79946248114356, 229.54418527750195, 94.93319608631384, 225.88388879923744, 125.71211681962228, 117.82027450449402, 63.72621799229553, 49.70927052342015, 46.145625009865334, 45.9826200060077, 40.74084777275679, 40.60812071983243, 38.02379855227722, 36.81746689080273, 33.61468309777257, 32.6190726846087, 31.714184414570727, 30.55279557646904, 28.194443167641392, 27.54493476464596, 27.113433360143443, 24.994754169734424, 24.943627049434557, 20.25644019149464, 20.28737563744661, 20.741302948315756, 19.43501363369551, 18.637999682889053, 18.443073305840027, 17.63583035439237, 15.747469729387344, 14.672581220139742, 14.121854717918197, 14.258646607551434, 374.5528875977234, 175.73675389625822, 164.01721481162676, 158.13568917622945, 138.1086238432468, 59.71471233506364, 42.44770765506274, 38.86780422375803, 38.59583987826251, 24.367407423664712, 21.46272099505248, 16.42277888093964, 14.668674753138726, 12.506262419099402, 12.01066173872418, 11.299252892334534, 9.180069768578209, 8.693507090515011, 8.435485784318251, 8.149968362061623, 7.90054616356463, 7.770712567125414, 7.6549165212163075, 7.894227901342115, 6.972170322181638, 6.513505905236714, 6.1909273685372, 8.900060037191619, 5.776882291031647, 5.816544294205061, 23.084888449767327, 10.22189843138158, 379.4733989577723, 153.73050761004617, 73.5284705306444, 35.58833797387174, 34.98034972745689, 32.93190096979946, 25.821904195877913, 23.393350487732377, 21.345795951001094, 19.790921349627013, 18.99712562354797, 18.280696347459937, 15.309837971156202, 14.117461100638272, 13.979785986915712, 13.477095504134855, 12.82172107324404, 14.682876008785499, 12.104002259074973, 11.998357496200365, 10.865916815786589, 10.684136748439702, 10.470411817389442, 9.577725138056566, 9.14306072087835, 8.581084371166856, 8.558577400041646, 25.699881342963085, 7.2727867117056455, 7.260571495240171, 6.970253217234484, 10.002088940829697, 7.638119587602401, 8.554826501788718, 216.89544441238093, 49.61042553694444, 31.994639425387838, 24.617702076663665, 19.083870994485643, 19.014695692956938, 18.065401005278638, 18.50479706350221, 15.63975528063161, 15.08704031543117, 13.359321183174025, 13.613412961276957, 12.828102274508435, 12.110266716101574, 11.580786092914144, 11.229533031610615, 11.297785881456782, 10.898461930533664, 9.387591376696356, 8.569221284066039, 8.816540984809574, 8.817298292521727, 8.256268492986399, 8.126063947915554, 8.04431809778396, 7.624030821359905, 7.2922987571094104, 9.153175278426435, 6.907261307643373, 6.542843346974351, 14.474793381310828], \"Category\": [\"Default\", \"Default\", \"Default\", \"Default\", \"Default\", \"Default\", \"Default\", \"Default\", \"Default\", \"Default\", \"Default\", \"Default\", \"Default\", \"Default\", \"Default\", \"Default\", \"Default\", \"Default\", \"Default\", \"Default\", \"Default\", \"Default\", \"Default\", \"Default\", \"Default\", \"Default\", \"Default\", \"Default\", \"Default\", \"Default\", \"Topic1\", \"Topic1\", \"Topic1\", \"Topic1\", \"Topic1\", \"Topic1\", \"Topic1\", \"Topic1\", \"Topic1\", \"Topic1\", \"Topic1\", \"Topic1\", \"Topic1\", \"Topic1\", \"Topic1\", \"Topic1\", \"Topic1\", \"Topic1\", \"Topic1\", \"Topic1\", \"Topic1\", \"Topic1\", \"Topic1\", \"Topic1\", \"Topic1\", \"Topic1\", \"Topic1\", \"Topic1\", \"Topic1\", \"Topic1\", \"Topic1\", \"Topic1\", \"Topic1\", \"Topic1\", \"Topic2\", \"Topic2\", \"Topic2\", \"Topic2\", \"Topic2\", \"Topic2\", \"Topic2\", \"Topic2\", \"Topic2\", \"Topic2\", \"Topic2\", \"Topic2\", \"Topic2\", \"Topic2\", \"Topic2\", \"Topic2\", \"Topic2\", \"Topic2\", \"Topic2\", \"Topic2\", \"Topic2\", \"Topic2\", \"Topic2\", \"Topic2\", \"Topic2\", \"Topic2\", \"Topic2\", \"Topic2\", \"Topic2\", \"Topic2\", \"Topic2\", \"Topic2\", \"Topic2\", \"Topic2\", \"Topic2\", \"Topic2\", \"Topic3\", \"Topic3\", \"Topic3\", \"Topic3\", \"Topic3\", \"Topic3\", \"Topic3\", \"Topic3\", \"Topic3\", \"Topic3\", \"Topic3\", \"Topic3\", \"Topic3\", \"Topic3\", \"Topic3\", \"Topic3\", \"Topic3\", \"Topic3\", \"Topic3\", \"Topic3\", \"Topic3\", \"Topic3\", \"Topic3\", \"Topic3\", \"Topic3\", \"Topic3\", \"Topic3\", \"Topic3\", \"Topic3\", \"Topic3\", \"Topic3\", \"Topic3\", \"Topic3\", \"Topic4\", \"Topic4\", \"Topic4\", \"Topic4\", \"Topic4\", \"Topic4\", \"Topic4\", \"Topic4\", \"Topic4\", \"Topic4\", \"Topic4\", \"Topic4\", \"Topic4\", \"Topic4\", \"Topic4\", \"Topic4\", \"Topic4\", \"Topic4\", \"Topic4\", \"Topic4\", \"Topic4\", \"Topic4\", \"Topic4\", \"Topic4\", \"Topic4\", \"Topic4\", \"Topic4\", \"Topic4\", \"Topic4\", \"Topic4\", \"Topic4\", \"Topic5\", \"Topic5\", \"Topic5\", \"Topic5\", \"Topic5\", \"Topic5\", \"Topic5\", \"Topic5\", \"Topic5\", \"Topic5\", \"Topic5\", \"Topic5\", \"Topic5\", \"Topic5\", \"Topic5\", \"Topic5\", \"Topic5\", \"Topic5\", \"Topic5\", \"Topic5\", \"Topic5\", \"Topic5\", \"Topic5\", \"Topic5\", \"Topic5\", \"Topic5\", \"Topic5\", \"Topic5\", \"Topic5\", \"Topic5\", \"Topic5\", \"Topic5\", \"Topic5\", \"Topic6\", \"Topic6\", \"Topic6\", \"Topic6\", \"Topic6\", \"Topic6\", \"Topic6\", \"Topic6\", \"Topic6\", \"Topic6\", \"Topic6\", \"Topic6\", \"Topic6\", \"Topic6\", \"Topic6\", \"Topic6\", \"Topic6\", \"Topic6\", \"Topic6\", \"Topic6\", \"Topic6\", \"Topic6\", \"Topic6\", \"Topic6\", \"Topic6\", \"Topic6\", \"Topic6\", \"Topic6\", \"Topic6\", \"Topic6\", \"Topic6\", \"Topic6\", \"Topic6\", \"Topic7\", \"Topic7\", \"Topic7\", \"Topic7\", \"Topic7\", \"Topic7\", \"Topic7\", \"Topic7\", \"Topic7\", \"Topic7\", \"Topic7\", \"Topic7\", \"Topic7\", \"Topic7\", \"Topic7\", \"Topic7\", \"Topic7\", \"Topic7\", \"Topic7\", \"Topic7\", \"Topic7\", \"Topic7\", \"Topic7\", \"Topic7\", \"Topic7\", \"Topic7\", \"Topic7\", \"Topic7\", \"Topic7\", \"Topic7\", \"Topic7\"], \"logprob\": [30.0, 29.0, 28.0, 27.0, 26.0, 25.0, 24.0, 23.0, 22.0, 21.0, 20.0, 19.0, 18.0, 17.0, 16.0, 15.0, 14.0, 13.0, 12.0, 11.0, 10.0, 9.0, 8.0, 7.0, 6.0, 5.0, 4.0, 3.0, 2.0, 1.0, -2.1463, -2.4801, -2.8614, -3.293, -3.3529, -3.4884, -3.6779, -3.7263, -3.7755, -3.7442, -3.8759, -4.1373, -4.1729, -4.1894, -4.2411, -4.253, -4.3279, -4.3593, -4.4887, -4.52, -4.5998, -4.6832, -4.6878, -4.8099, -4.8431, -4.8638, -4.9515, -5.0092, -5.0432, -5.0456, -3.6234, -4.4961, -3.4055, -4.7655, -1.7665, -2.4036, -2.7015, -2.8052, -2.9322, -2.9947, -3.0294, -3.2253, -3.8744, -3.9889, -4.0438, -4.1578, -4.32, -4.4293, -4.5178, -4.5601, -4.7309, -4.7396, -4.823, -4.9122, -5.0603, -5.1574, -5.1765, -5.2102, -5.2313, -5.3364, -5.4816, -5.5313, -5.6091, -5.6819, -3.7492, -5.1695, -3.6591, -4.8214, -4.6266, -4.8806, -2.2147, -2.7538, -2.8067, -2.9181, -3.2137, -3.5675, -3.7624, -3.9068, -3.9101, -3.947, -4.027, -4.0768, -4.0894, -4.1466, -4.2982, -4.353, -4.5607, -4.5607, -4.6804, -4.7839, -4.787, -4.8006, -4.8242, -4.8305, -4.8592, -4.5229, -4.9816, -4.9834, -5.0331, -5.1406, -3.2641, -4.5495, -4.8424, -2.2863, -2.8757, -2.941, -3.5624, -3.8149, -3.8909, -3.8944, -4.0181, -4.0215, -4.0888, -4.1219, -4.2155, -4.2463, -4.2753, -4.3138, -4.3968, -4.4208, -4.4381, -4.5215, -4.5238, -4.7408, -4.7393, -4.7175, -4.7843, -4.8285, -4.84, -4.8866, -5.0065, -5.0818, -5.1228, -5.1213, -1.6739, -2.4332, -2.5026, -2.5393, -2.6756, -3.5224, -3.8697, -3.9598, -3.967, -4.4405, -4.5724, -4.8535, -4.973, -5.1442, -5.1956, -5.2639, -5.4809, -5.5423, -5.5741, -5.6128, -5.6479, -5.6663, -5.6833, -5.6643, -5.7893, -5.8675, -5.9264, -5.5688, -6.0074, -6.0038, -4.68, -5.4744, -3.4185, -2.0888, -2.8328, -3.572, -3.5897, -3.6516, -3.9027, -4.0053, -4.1016, -4.1799, -4.2229, -4.2633, -4.4509, -4.538, -4.5479, -4.587, -4.641, -4.5061, -4.7027, -4.7122, -4.82, -4.8384, -4.8607, -4.9591, -5.0102, -5.0806, -5.0979, -4.0051, -5.2685, -5.2716, -5.3165, -4.9692, -5.2323, -5.1584, -1.6015, -3.0916, -3.5407, -3.8116, -4.0777, -4.0816, -4.1354, -4.1114, -4.2882, -4.3265, -4.4565, -4.4379, -4.5003, -4.5625, -4.6109, -4.6444, -4.6412, -4.6775, -4.8414, -4.9432, -4.9178, -4.918, -4.985, -5.0035, -5.0145, -5.0756, -5.1273, -4.9068, -5.1894, -5.2513, -5.1985], \"loglift\": [30.0, 29.0, 28.0, 27.0, 26.0, 25.0, 24.0, 23.0, 22.0, 21.0, 20.0, 19.0, 18.0, 17.0, 16.0, 15.0, 14.0, 13.0, 12.0, 11.0, 10.0, 9.0, 8.0, 7.0, 6.0, 5.0, 4.0, 3.0, 2.0, 1.0, 1.1629, 1.1625, 1.162, 1.161, 1.1609, 1.1604, 1.1597, 1.1595, 1.1593, 1.1593, 1.1589, 1.1574, 1.1572, 1.1571, 1.1567, 1.1567, 1.1561, 1.1559, 1.1548, 1.1545, 1.1537, 1.1528, 1.1528, 1.1514, 1.1509, 1.1507, 1.1495, 1.1487, 1.1482, 1.1482, 1.0515, 1.1002, 0.8666, -0.2203, 1.4229, 1.4223, 1.4217, 1.4215, 1.4212, 1.4211, 1.421, 1.4204, 1.4174, 1.4166, 1.4162, 1.4153, 1.4138, 1.4127, 1.4117, 1.4112, 1.4088, 1.4087, 1.4074, 1.4041, 1.403, 1.401, 1.4006, 1.3998, 1.3993, 1.3966, 1.3923, 1.3908, 1.3883, 1.3856, 1.3841, 1.3772, 1.1157, 1.2353, 0.8139, 0.7771, 1.5713, 1.5703, 1.5702, 1.5699, 1.5689, 1.5673, 1.5662, 1.5651, 1.5651, 1.5648, 1.5642, 1.5637, 1.5636, 1.562, 1.5615, 1.5608, 1.5582, 1.5582, 1.5564, 1.5546, 1.5545, 1.5543, 1.5538, 1.5537, 1.5531, 1.5511, 1.5507, 1.5506, 1.5495, 1.5469, 1.2811, 0.2254, 0.8153, 2.5046, 2.5012, 2.5008, 2.4939, 2.4898, 2.4883, 2.4883, 2.4856, 2.4855, 2.4839, 2.4831, 2.4805, 2.4797, 2.4789, 2.4777, 2.475, 2.4743, 2.4728, 2.4708, 2.4706, 2.4616, 2.4616, 2.4613, 2.4595, 2.4572, 2.4563, 2.4544, 2.4478, 2.4432, 2.4404, 2.4323, 2.6113, 2.6087, 2.6083, 2.6081, 2.6073, 2.599, 2.5929, 2.591, 2.5908, 2.5772, 2.5722, 2.5588, 2.5522, 2.5405, 2.5295, 2.5223, 2.513, 2.506, 2.5044, 2.5002, 2.4961, 2.4942, 2.4923, 2.4805, 2.4797, 2.4696, 2.4615, 2.4561, 2.4496, 2.4465, 2.3918, 2.412, 0.8536, 3.087, 3.0805, 3.0669, 3.0665, 3.0649, 3.057, 3.0532, 3.0485, 3.0458, 3.0438, 3.0418, 3.0316, 3.0255, 3.0254, 3.0229, 3.0187, 3.0181, 3.0147, 3.014, 3.0053, 3.0038, 3.0017, 2.9924, 2.9878, 2.9808, 2.9661, 2.9593, 2.9583, 2.9569, 2.9528, 2.939, 2.9455, 2.906, 3.23, 3.2152, 3.2047, 3.1958, 3.1844, 3.1841, 3.1815, 3.1815, 3.1729, 3.1706, 3.1622, 3.162, 3.159, 3.1544, 3.1507, 3.148, 3.1451, 3.1448, 3.1301, 3.1195, 3.1165, 3.1162, 3.115, 3.1123, 3.1115, 3.1041, 3.0968, 3.09, 3.0889, 3.0813, 2.34]}, \"token.table\": {\"Topic\": [1, 3, 7, 6, 4, 6, 6, 1, 3, 7, 5, 7, 7, 4, 1, 7, 7, 3, 5, 3, 1, 3, 4, 4, 6, 6, 1, 3, 5, 5, 6, 2, 7, 3, 4, 1, 2, 3, 1, 1, 7, 2, 1, 6, 7, 3, 5, 4, 5, 4, 7, 2, 5, 2, 5, 7, 6, 6, 4, 6, 4, 5, 2, 3, 5, 6, 4, 2, 2, 3, 7, 4, 7, 7, 3, 2, 5, 3, 2, 3, 6, 2, 7, 3, 7, 5, 7, 5, 6, 2, 6, 2, 1, 2, 2, 2, 5, 1, 5, 5, 3, 4, 6, 3, 6, 4, 7, 1, 1, 1, 3, 3, 1, 1, 2, 4, 5, 3, 3, 1, 1, 7, 1, 3, 7, 6, 2, 4, 4, 4, 1, 2, 7, 2, 6, 4, 2, 5, 2, 2, 6, 4, 7, 1, 7, 6, 6, 3, 7, 6, 4, 5, 1, 3, 4, 1, 2, 3, 5, 5, 5, 5, 1, 3, 3, 5, 2, 2, 5, 2, 5, 7, 4, 4, 6, 5, 1, 2, 4, 7, 2, 2, 6, 6, 5, 1, 3, 7, 4, 4, 1, 1, 5, 6, 3, 4, 7, 3, 5, 1, 4, 1, 7, 2, 1, 3, 1, 6, 6, 6, 7, 3, 5, 7, 1, 3, 6, 5, 5, 3, 6, 2, 3, 4, 4, 1, 3, 2, 4, 2, 6, 1, 3, 6, 1, 1, 2, 3, 4, 7, 5, 4, 4, 2], \"Freq\": [0.9878525155366683, 0.982745391064667, 0.8521887754785645, 0.9645995308122229, 0.9576355113474188, 0.9167921528828822, 0.916455931295165, 0.9961289538280552, 0.9863599640138652, 0.9727207457736544, 0.9937981216618327, 0.9410253331787469, 0.9466362381317108, 0.985024652481999, 0.9902002887977671, 0.9958715388660795, 0.9876956198150354, 0.9741150170810937, 0.9483745458823689, 0.997866870776631, 0.8948418070663426, 0.10249289420143132, 0.9602014821598466, 0.9525339789672722, 0.9475117634474145, 0.9299426934774349, 0.7431350939868671, 0.08432738655170122, 0.17129000393314311, 0.9438837542340783, 0.8249932574459968, 0.9888328890386976, 0.9279487366173912, 0.9966341524582111, 0.9777967644208859, 0.9864881974466099, 0.5266861546991392, 0.4740175392292252, 0.9965819954721441, 0.995403260537983, 0.9549405455471162, 0.9954553924660631, 0.9878878640879674, 0.9396803385220351, 0.822785818278561, 0.9867364455196228, 0.8860146950703577, 0.9751737026073346, 0.8605641748181735, 0.9802165164193678, 0.959094290853522, 0.9768920561867739, 0.9784407114475773, 0.9971725866913681, 0.8076334452590107, 0.9335737443115779, 0.9550722716934424, 0.8263812296226865, 0.9642595766445834, 0.9087903128696753, 0.954160674931787, 0.8588990397294345, 0.9871238791550653, 0.9734047032450197, 0.9595192870472441, 0.8608008651916033, 0.9960869772344719, 0.9976212079288641, 0.8319858116357454, 0.15697845502561233, 0.890508979478529, 0.9365430176651158, 0.8851291841539627, 0.9749082154483779, 0.996505051916238, 0.989251790392013, 0.8714530718908713, 0.9928098956788735, 0.9944815347682069, 0.9856791841070369, 0.9717021810962547, 0.9995683813614242, 0.9181494886390562, 0.9773048627499413, 0.8478406444686745, 0.9144449819405416, 0.9354462369579005, 0.9776729290195513, 0.9952481285503904, 0.9827532941014305, 0.935967054283575, 0.9752806892324953, 0.02562368792088786, 0.9480764530728508, 0.9596123102901198, 0.998398808967513, 0.8596169387004287, 0.9959019682211554, 0.8850142655700756, 0.9742565564570611, 0.9973351173358991, 0.07782137097483613, 0.8560350807231975, 0.9855846661200073, 0.9719742731249085, 0.978630621615747, 0.9073853355622766, 0.9915668835039645, 0.9968876414901816, 0.9955472949744522, 0.991751532771091, 0.9953814246615982, 0.9945249495992744, 0.9983641560950557, 0.9697589188798589, 0.9776170142252277, 0.9008182891249933, 0.9809446558868457, 0.9927982932833301, 0.985313611683353, 0.9845840190261468, 0.8982492325368986, 0.9989703579080955, 0.9801535634508404, 0.8614256600571787, 0.9928127087802793, 0.9813980267366946, 0.9930379172180359, 0.9759761673939816, 0.9818156024418278, 0.9845302385484765, 0.9601418798650166, 0.031173437657955085, 0.9901542839056113, 0.9208454627448734, 0.9817138511767406, 0.9878249165368236, 0.9845620698981579, 0.9488920830006358, 0.9772915850175308, 0.8182515447316645, 0.4835993036721388, 0.41451368886183326, 0.9973978211343396, 0.8701794129608516, 0.9600361531606046, 0.935911796197253, 0.9933641765832674, 0.9170325012862517, 0.9203089043964944, 0.17327352517661032, 0.7797308632947465, 0.9932324322670405, 0.9884636307928154, 0.9774805996826265, 0.3136245310665028, 0.5424856753582751, 0.14409775751704182, 0.9211629017141342, 0.9919728123241234, 0.9958076277163219, 0.998523873087004, 0.9410531336412992, 0.05943493475629258, 0.9742597771524588, 0.015971471756597685, 0.9978952034189551, 0.99348821649812, 0.8988703409381013, 0.9903479330145548, 0.9158529512603245, 0.9689123102103602, 0.988604093963597, 0.9657688757514692, 0.8998120345901891, 0.9880312186542349, 0.9900338918788946, 0.9897853049772944, 0.9117274842280718, 0.9073074012688322, 0.9990470011371245, 0.9650551794160761, 0.9534916723142728, 0.9299140925452839, 0.9544147808583971, 0.9909153423863685, 0.9983591332923112, 0.9175606671601533, 0.958934254273375, 0.9857316247864474, 0.9942897554352423, 0.9985849426592925, 0.7826334857172641, 0.9347347843066854, 0.9926510666447724, 0.9819068741161352, 0.8686510807634533, 0.9856342902757668, 0.8867238300543508, 0.994534926348731, 0.9205589676195467, 0.9865420065618284, 0.9498491649656231, 0.9984148809702195, 0.9964852926090978, 0.9779969504576728, 0.994330430597727, 0.874980517380996, 0.9681702716560648, 0.9322831071187988, 0.9083202094446537, 0.9940111173692411, 0.9928182614427802, 0.8740136353398137, 0.2493079432400296, 0.7479238297200889, 0.9404381818473134, 0.9202270058223503, 0.8655187604847475, 0.9730127383361598, 0.914444687551629, 0.9940418623347285, 0.9849965804799047, 0.973074795489734, 0.9943353366593607, 0.9986112255424275, 0.9959968138907923, 0.9878121844261811, 0.9810211439609436, 0.9851104433956662, 0.983468236861646, 0.9957176781655522, 0.992234458310096, 0.9369526461280552, 0.9979307959582798, 0.004356459732539397, 0.7362416947991581, 0.26138758395236383, 0.9379732973998955, 0.9432048668323721, 0.9894527247807846, 0.9639466732433152, 0.9621696136025275, 0.9805953338838472], \"Term\": [\"abit\", \"able\", \"about\", \"acceptable\", \"accord\", \"actually\", \"address\", \"adjust\", \"adjustable\", \"after\", \"again\", \"all\", \"already\", \"also\", \"area\", \"arrive\", \"beautiful\", \"belly\", \"belt\", \"big\", \"bit\", \"bit\", \"black\", \"blue\", \"bottom\", \"bump\", \"buy\", \"buy\", \"buy\", \"buying\", \"check\", \"cloth\", \"clothe\", \"cm\", \"color\", \"colour\", \"come\", \"come\", \"comfortable\", \"comfy\", \"complete\", \"condition\", \"cool\", \"country\", \"courier\", \"currently\", \"customer\", \"cut\", \"cute\", \"cutting\", \"dark\", \"day\", \"definitely\", \"delivery\", \"due\", \"early\", \"easy\", \"elegant\", \"elok\", \"end\", \"enough\", \"especially\", \"even\", \"expect\", \"expectation\", \"extra\", \"fabric\", \"fast\", \"feel\", \"feel\", \"few\", \"find\", \"finish\", \"first\", \"fit\", \"free\", \"freebie\", \"get\", \"gift\", \"give\", \"go\", \"good\", \"got\", \"great\", \"grey\", \"guess\", \"hair\", \"happy\", \"height\", \"highly\", \"home\", \"hope\", \"hopefully\", \"hopefully\", \"iron\", \"item\", \"job\", \"just\", \"kain\", \"keep\", \"kg\", \"kind\", \"kind\", \"last\", \"later\", \"length\", \"lg\", \"like\", \"little\", \"long\", \"look\", \"loose\", \"love\", \"material\", \"maternity\", \"maybe\", \"mention\", \"money\", \"month\", \"more\", \"nd\", \"next\", \"nice\", \"nicely\", \"night\", \"now\", \"ok\", \"okay\", \"old\", \"one\", \"only\", \"order\", \"order\", \"other\", \"outer\", \"outside\", \"overall\", \"pack\", \"package\", \"packaging\", \"palazo\", \"palazzo\", \"palazzo\", \"pant\", \"pc\", \"perfect\", \"person\", \"picture\", \"place\", \"pocket\", \"pon\", \"pon\", \"pregnancy\", \"pregnant\", \"pretty\", \"price\", \"price\", \"price\", \"pricing\", \"product\", \"purchase\", \"quality\", \"quite\", \"quite\", \"really\", \"really\", \"receive\", \"recommend\", \"recommended\", \"repeat\", \"resolve\", \"safely\", \"satisfied\", \"say\", \"seal\", \"second\", \"see\", \"seem\", \"sele\", \"selesa\", \"seller\", \"service\", \"shipment\", \"shipping\", \"shop\", \"short\", \"size\", \"slight\", \"slippery\", \"small\", \"so\", \"soft\", \"sol\", \"stainless\", \"still\", \"stomach\", \"store\", \"stretchable\", \"such\", \"suitable\", \"sure\", \"take\", \"th\", \"thank\", \"thick\", \"thigh\", \"thin\", \"thing\", \"think\", \"third\", \"tie\", \"tight\", \"time\", \"tomorrow\", \"too\", \"too\", \"top\", \"tq\", \"translucent\", \"trimester\", \"true\", \"try\", \"tummy\", \"type\", \"use\", \"very\", \"waist\", \"wait\", \"want\", \"wash\", \"way\", \"wear\", \"week\", \"weigh\", \"weight\", \"well\", \"well\", \"well\", \"white\", \"wife\", \"worth\", \"wrong\", \"xl\", \"yet\"]}, \"R\": 30, \"lambda.step\": 0.01, \"plot.opts\": {\"xlab\": \"PC1\", \"ylab\": \"PC2\"}, \"topic.order\": [2, 5, 7, 3, 4, 1, 6]};\n",
              "\n",
              "function LDAvis_load_lib(url, callback){\n",
              "  var s = document.createElement('script');\n",
              "  s.src = url;\n",
              "  s.async = true;\n",
              "  s.onreadystatechange = s.onload = callback;\n",
              "  s.onerror = function(){console.warn(\"failed to load library \" + url);};\n",
              "  document.getElementsByTagName(\"head\")[0].appendChild(s);\n",
              "}\n",
              "\n",
              "if(typeof(LDAvis) !== \"undefined\"){\n",
              "   // already loaded: just create the visualization\n",
              "   !function(LDAvis){\n",
              "       new LDAvis(\"#\" + \"ldavis_el561402112716607525354296091\", ldavis_el561402112716607525354296091_data);\n",
              "   }(LDAvis);\n",
              "}else if(typeof define === \"function\" && define.amd){\n",
              "   // require.js is available: use it to load d3/LDAvis\n",
              "   require.config({paths: {d3: \"https://d3js.org/d3.v5\"}});\n",
              "   require([\"d3\"], function(d3){\n",
              "      window.d3 = d3;\n",
              "      LDAvis_load_lib(\"https://cdn.jsdelivr.net/gh/bmabey/pyLDAvis@3.3.1/pyLDAvis/js/ldavis.v3.0.0.js\", function(){\n",
              "        new LDAvis(\"#\" + \"ldavis_el561402112716607525354296091\", ldavis_el561402112716607525354296091_data);\n",
              "      });\n",
              "    });\n",
              "}else{\n",
              "    // require.js not available: dynamically load d3 & LDAvis\n",
              "    LDAvis_load_lib(\"https://d3js.org/d3.v5.js\", function(){\n",
              "         LDAvis_load_lib(\"https://cdn.jsdelivr.net/gh/bmabey/pyLDAvis@3.3.1/pyLDAvis/js/ldavis.v3.0.0.js\", function(){\n",
              "                 new LDAvis(\"#\" + \"ldavis_el561402112716607525354296091\", ldavis_el561402112716607525354296091_data);\n",
              "            })\n",
              "         });\n",
              "}\n",
              "</script>"
            ]
          },
          "metadata": {},
          "execution_count": 35
        }
      ],
      "source": [
        "pyLDAvis.enable_notebook()\n",
        "vis = pyLDAvis.gensim_models.prepare(lda_model, corpus, id2word, mds=\"mmds\", R = 30)\n",
        "vis"
      ]
    },
    {
      "cell_type": "markdown",
      "source": [
        "Tag Reviews to Dominant Topic Cluster"
      ],
      "metadata": {
        "id": "RsLCFhQ5DBA0"
      }
    },
    {
      "cell_type": "code",
      "execution_count": null,
      "metadata": {
        "colab": {
          "base_uri": "https://localhost:8080/",
          "height": 536
        },
        "id": "wWr_mfVuGWLa",
        "outputId": "e0d69430-f7c7-40e4-fcc2-fe5d9637b550"
      },
      "outputs": [
        {
          "output_type": "execute_result",
          "data": {
            "text/plain": [
              "   Document_No  Dominant_Topic  Topic_Perc_Contrib  \\\n",
              "0            0             1.0              0.3433   \n",
              "1            1             4.0              0.2875   \n",
              "2            2             4.0              0.3794   \n",
              "3            3             6.0              0.3648   \n",
              "4            4             4.0              0.2588   \n",
              "5            5             4.0              0.4171   \n",
              "6            6             1.0              0.5933   \n",
              "7            7             4.0              0.4308   \n",
              "8            8             1.0              0.6071   \n",
              "9            9             6.0              0.4670   \n",
              "\n",
              "                                            Keywords  \\\n",
              "0  nice, material, very, wear, comfortable, buy, ...   \n",
              "1  good, thank, seller, delivery, fast, receive, ...   \n",
              "2  good, thank, seller, delivery, fast, receive, ...   \n",
              "3  size, fit, big, kg, cm, too, month, get, pregn...   \n",
              "4  good, thank, seller, delivery, fast, receive, ...   \n",
              "5  good, thank, seller, delivery, fast, receive, ...   \n",
              "6  nice, material, very, wear, comfortable, buy, ...   \n",
              "7  good, thank, seller, delivery, fast, receive, ...   \n",
              "8  nice, material, very, wear, comfortable, buy, ...   \n",
              "9  size, fit, big, kg, cm, too, month, get, pregn...   \n",
              "\n",
              "                                                Text  \n",
              "0  Fit: GoodColour: GoodMaterial Quality: Very go...  \n",
              "1  Fit: comfortableColour: niceMaterial Quality: ...  \n",
              "2  Material Quality: goodColour: niceNo regrets w...  \n",
              "3  Fit: 👍🏻Colour: 👍🏻Material Quality: no good qui...  \n",
              "4  Material Quality: SoftColour: GreyFast deliver...  \n",
              "5  Items are nicely packed and received in good o...  \n",
              "6  3rd purchase from seller. As usual, delivery i...  \n",
              "7  Ordered on 17/01 and received on 19/01. Super ...  \n",
              "8  Fit: just niceColour: awesomeMaterial Quality:...  \n",
              "9  Fit: goodColour: goodMaterial Quality: better ...  "
            ],
            "text/html": [
              "\n",
              "  <div id=\"df-808db3e7-4866-4f93-95d0-b8f96bb00d88\">\n",
              "    <div class=\"colab-df-container\">\n",
              "      <div>\n",
              "<style scoped>\n",
              "    .dataframe tbody tr th:only-of-type {\n",
              "        vertical-align: middle;\n",
              "    }\n",
              "\n",
              "    .dataframe tbody tr th {\n",
              "        vertical-align: top;\n",
              "    }\n",
              "\n",
              "    .dataframe thead th {\n",
              "        text-align: right;\n",
              "    }\n",
              "</style>\n",
              "<table border=\"1\" class=\"dataframe\">\n",
              "  <thead>\n",
              "    <tr style=\"text-align: right;\">\n",
              "      <th></th>\n",
              "      <th>Document_No</th>\n",
              "      <th>Dominant_Topic</th>\n",
              "      <th>Topic_Perc_Contrib</th>\n",
              "      <th>Keywords</th>\n",
              "      <th>Text</th>\n",
              "    </tr>\n",
              "  </thead>\n",
              "  <tbody>\n",
              "    <tr>\n",
              "      <th>0</th>\n",
              "      <td>0</td>\n",
              "      <td>1.0</td>\n",
              "      <td>0.3433</td>\n",
              "      <td>nice, material, very, wear, comfortable, buy, ...</td>\n",
              "      <td>Fit: GoodColour: GoodMaterial Quality: Very go...</td>\n",
              "    </tr>\n",
              "    <tr>\n",
              "      <th>1</th>\n",
              "      <td>1</td>\n",
              "      <td>4.0</td>\n",
              "      <td>0.2875</td>\n",
              "      <td>good, thank, seller, delivery, fast, receive, ...</td>\n",
              "      <td>Fit: comfortableColour: niceMaterial Quality: ...</td>\n",
              "    </tr>\n",
              "    <tr>\n",
              "      <th>2</th>\n",
              "      <td>2</td>\n",
              "      <td>4.0</td>\n",
              "      <td>0.3794</td>\n",
              "      <td>good, thank, seller, delivery, fast, receive, ...</td>\n",
              "      <td>Material Quality: goodColour: niceNo regrets w...</td>\n",
              "    </tr>\n",
              "    <tr>\n",
              "      <th>3</th>\n",
              "      <td>3</td>\n",
              "      <td>6.0</td>\n",
              "      <td>0.3648</td>\n",
              "      <td>size, fit, big, kg, cm, too, month, get, pregn...</td>\n",
              "      <td>Fit: 👍🏻Colour: 👍🏻Material Quality: no good qui...</td>\n",
              "    </tr>\n",
              "    <tr>\n",
              "      <th>4</th>\n",
              "      <td>4</td>\n",
              "      <td>4.0</td>\n",
              "      <td>0.2588</td>\n",
              "      <td>good, thank, seller, delivery, fast, receive, ...</td>\n",
              "      <td>Material Quality: SoftColour: GreyFast deliver...</td>\n",
              "    </tr>\n",
              "    <tr>\n",
              "      <th>5</th>\n",
              "      <td>5</td>\n",
              "      <td>4.0</td>\n",
              "      <td>0.4171</td>\n",
              "      <td>good, thank, seller, delivery, fast, receive, ...</td>\n",
              "      <td>Items are nicely packed and received in good o...</td>\n",
              "    </tr>\n",
              "    <tr>\n",
              "      <th>6</th>\n",
              "      <td>6</td>\n",
              "      <td>1.0</td>\n",
              "      <td>0.5933</td>\n",
              "      <td>nice, material, very, wear, comfortable, buy, ...</td>\n",
              "      <td>3rd purchase from seller. As usual, delivery i...</td>\n",
              "    </tr>\n",
              "    <tr>\n",
              "      <th>7</th>\n",
              "      <td>7</td>\n",
              "      <td>4.0</td>\n",
              "      <td>0.4308</td>\n",
              "      <td>good, thank, seller, delivery, fast, receive, ...</td>\n",
              "      <td>Ordered on 17/01 and received on 19/01. Super ...</td>\n",
              "    </tr>\n",
              "    <tr>\n",
              "      <th>8</th>\n",
              "      <td>8</td>\n",
              "      <td>1.0</td>\n",
              "      <td>0.6071</td>\n",
              "      <td>nice, material, very, wear, comfortable, buy, ...</td>\n",
              "      <td>Fit: just niceColour: awesomeMaterial Quality:...</td>\n",
              "    </tr>\n",
              "    <tr>\n",
              "      <th>9</th>\n",
              "      <td>9</td>\n",
              "      <td>6.0</td>\n",
              "      <td>0.4670</td>\n",
              "      <td>size, fit, big, kg, cm, too, month, get, pregn...</td>\n",
              "      <td>Fit: goodColour: goodMaterial Quality: better ...</td>\n",
              "    </tr>\n",
              "  </tbody>\n",
              "</table>\n",
              "</div>\n",
              "      <button class=\"colab-df-convert\" onclick=\"convertToInteractive('df-808db3e7-4866-4f93-95d0-b8f96bb00d88')\"\n",
              "              title=\"Convert this dataframe to an interactive table.\"\n",
              "              style=\"display:none;\">\n",
              "        \n",
              "  <svg xmlns=\"http://www.w3.org/2000/svg\" height=\"24px\"viewBox=\"0 0 24 24\"\n",
              "       width=\"24px\">\n",
              "    <path d=\"M0 0h24v24H0V0z\" fill=\"none\"/>\n",
              "    <path d=\"M18.56 5.44l.94 2.06.94-2.06 2.06-.94-2.06-.94-.94-2.06-.94 2.06-2.06.94zm-11 1L8.5 8.5l.94-2.06 2.06-.94-2.06-.94L8.5 2.5l-.94 2.06-2.06.94zm10 10l.94 2.06.94-2.06 2.06-.94-2.06-.94-.94-2.06-.94 2.06-2.06.94z\"/><path d=\"M17.41 7.96l-1.37-1.37c-.4-.4-.92-.59-1.43-.59-.52 0-1.04.2-1.43.59L10.3 9.45l-7.72 7.72c-.78.78-.78 2.05 0 2.83L4 21.41c.39.39.9.59 1.41.59.51 0 1.02-.2 1.41-.59l7.78-7.78 2.81-2.81c.8-.78.8-2.07 0-2.86zM5.41 20L4 18.59l7.72-7.72 1.47 1.35L5.41 20z\"/>\n",
              "  </svg>\n",
              "      </button>\n",
              "      \n",
              "  <style>\n",
              "    .colab-df-container {\n",
              "      display:flex;\n",
              "      flex-wrap:wrap;\n",
              "      gap: 12px;\n",
              "    }\n",
              "\n",
              "    .colab-df-convert {\n",
              "      background-color: #E8F0FE;\n",
              "      border: none;\n",
              "      border-radius: 50%;\n",
              "      cursor: pointer;\n",
              "      display: none;\n",
              "      fill: #1967D2;\n",
              "      height: 32px;\n",
              "      padding: 0 0 0 0;\n",
              "      width: 32px;\n",
              "    }\n",
              "\n",
              "    .colab-df-convert:hover {\n",
              "      background-color: #E2EBFA;\n",
              "      box-shadow: 0px 1px 2px rgba(60, 64, 67, 0.3), 0px 1px 3px 1px rgba(60, 64, 67, 0.15);\n",
              "      fill: #174EA6;\n",
              "    }\n",
              "\n",
              "    [theme=dark] .colab-df-convert {\n",
              "      background-color: #3B4455;\n",
              "      fill: #D2E3FC;\n",
              "    }\n",
              "\n",
              "    [theme=dark] .colab-df-convert:hover {\n",
              "      background-color: #434B5C;\n",
              "      box-shadow: 0px 1px 3px 1px rgba(0, 0, 0, 0.15);\n",
              "      filter: drop-shadow(0px 1px 2px rgba(0, 0, 0, 0.3));\n",
              "      fill: #FFFFFF;\n",
              "    }\n",
              "  </style>\n",
              "\n",
              "      <script>\n",
              "        const buttonEl =\n",
              "          document.querySelector('#df-808db3e7-4866-4f93-95d0-b8f96bb00d88 button.colab-df-convert');\n",
              "        buttonEl.style.display =\n",
              "          google.colab.kernel.accessAllowed ? 'block' : 'none';\n",
              "\n",
              "        async function convertToInteractive(key) {\n",
              "          const element = document.querySelector('#df-808db3e7-4866-4f93-95d0-b8f96bb00d88');\n",
              "          const dataTable =\n",
              "            await google.colab.kernel.invokeFunction('convertToInteractive',\n",
              "                                                     [key], {});\n",
              "          if (!dataTable) return;\n",
              "\n",
              "          const docLinkHtml = 'Like what you see? Visit the ' +\n",
              "            '<a target=\"_blank\" href=https://colab.research.google.com/notebooks/data_table.ipynb>data table notebook</a>'\n",
              "            + ' to learn more about interactive tables.';\n",
              "          element.innerHTML = '';\n",
              "          dataTable['output_type'] = 'display_data';\n",
              "          await google.colab.output.renderOutput(dataTable, element);\n",
              "          const docLink = document.createElement('div');\n",
              "          docLink.innerHTML = docLinkHtml;\n",
              "          element.appendChild(docLink);\n",
              "        }\n",
              "      </script>\n",
              "    </div>\n",
              "  </div>\n",
              "  "
            ]
          },
          "metadata": {},
          "execution_count": 32
        }
      ],
      "source": [
        "optimal_model = lda_model\n",
        "model_topics = optimal_model.show_topics(formatted=False)\n",
        "#print(optimal_model.print_topics(num_words=10))\n",
        "\n",
        "import matplotlib.pyplot as plt\n",
        "\n",
        "def format_topics_sentences(ldamodel=lda_model, corpus=corpus, texts=data):\n",
        "    # Init output\n",
        "    sent_topics_df = pd.DataFrame()\n",
        "\n",
        "    # Get main topic in each document\n",
        "    for i, row in enumerate(ldamodel[corpus]):\n",
        "        row = sorted(row, key=lambda x: (x[1]), reverse=True)\n",
        "        # Get the Dominant topic, Perc Contribution and Keywords for each document\n",
        "        for j, (topic_num, prop_topic) in enumerate(row):\n",
        "            if j == 0:  # => dominant topic\n",
        "                wp = ldamodel.show_topic(topic_num)\n",
        "                topic_keywords = \", \".join([word for word, prop in wp])\n",
        "                sent_topics_df = sent_topics_df.append(pd.Series([int(topic_num), round(prop_topic,4), topic_keywords]), ignore_index=True)\n",
        "            else:\n",
        "                break\n",
        "    sent_topics_df.columns = ['Dominant_Topic', 'Perc_Contribution', 'Topic_Keywords']\n",
        "\n",
        "    # Add original text to the end of the output\n",
        "    contents = pd.Series(texts)\n",
        "    sent_topics_df = pd.concat([sent_topics_df, contents], axis=1)\n",
        "    return(sent_topics_df)\n",
        "\n",
        "\n",
        "df_topic_sents_keywords = format_topics_sentences(ldamodel=optimal_model, corpus=corpus, texts=data)\n",
        "\n",
        "# Format\n",
        "df_dominant_topic = df_topic_sents_keywords.reset_index()\n",
        "df_dominant_topic.columns = ['Document_No', 'Dominant_Topic', 'Topic_Perc_Contrib', 'Keywords', 'Text']\n",
        "\n",
        "# Show\n",
        "df_dominant_topic.head(10)"
      ]
    },
    {
      "cell_type": "code",
      "source": [
        "df_dominant_topic.to_csv(\"/content/df_dominant_topic.csv\", index= False)"
      ],
      "metadata": {
        "id": "cXH8HbCwNfsu"
      },
      "execution_count": null,
      "outputs": []
    }
  ],
  "metadata": {
    "colab": {
      "provenance": []
    },
    "kernelspec": {
      "display_name": "Python 3",
      "name": "python3"
    },
    "language_info": {
      "name": "python"
    }
  },
  "nbformat": 4,
  "nbformat_minor": 0
}